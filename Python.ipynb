{
 "cells": [
  {
   "cell_type": "markdown",
   "metadata": {
    "toc": true
   },
   "source": [
    "<h1>Table of Contents<span class=\"tocSkip\"></span></h1>\n",
    "<div class=\"toc\"><ul class=\"toc-item\"><li><span><a href=\"#CMD\" data-toc-modified-id=\"CMD-1\"><span class=\"toc-item-num\">1&nbsp;&nbsp;</span>CMD</a></span><ul class=\"toc-item\"><li><span><a href=\"#echo\" data-toc-modified-id=\"echo-1.1\"><span class=\"toc-item-num\">1.1&nbsp;&nbsp;</span>echo</a></span></li><li><span><a href=\"#tree\" data-toc-modified-id=\"tree-1.2\"><span class=\"toc-item-num\">1.2&nbsp;&nbsp;</span>tree</a></span></li><li><span><a href=\"#mkdocs\" data-toc-modified-id=\"mkdocs-1.3\"><span class=\"toc-item-num\">1.3&nbsp;&nbsp;</span>mkdocs</a></span></li></ul></li></ul></div>"
   ]
  },
  {
   "cell_type": "markdown",
   "metadata": {},
   "source": [
    "# CMD"
   ]
  },
  {
   "cell_type": "markdown",
   "metadata": {},
   "source": [
    "## echo"
   ]
  },
  {
   "cell_type": "markdown",
   "metadata": {},
   "source": [
    "ehco [字符串] 在屏幕上显示一段文字  \n",
    "echo [字符串]>>[filepath] 输出流重定向至filepath，向该文件写入字符串，该文件不存在则创建 "
   ]
  },
  {
   "cell_type": "markdown",
   "metadata": {},
   "source": [
    "## tree "
   ]
  },
  {
   "cell_type": "markdown",
   "metadata": {},
   "source": [
    "tree --help 查看命令功能  \n",
    "tree 查看所有目录  \n",
    "tree [-L] [1] 查看一级目录（功能相当于dir）  \n",
    "tree [-L] [2] 查看二级目录"
   ]
  },
  {
   "cell_type": "markdown",
   "metadata": {},
   "source": [
    "## mkdocs"
   ]
  },
  {
   "cell_type": "markdown",
   "metadata": {},
   "source": [
    "mkdocs是一个用于创建项目文档的静态html生成器(可以托管至github pages Amazon S3等任意地方)，文档源码使用markdown撰写，用一个yaml文件作为配置文档 官方文档https://markdown-docs-zh.readthedocs.io/zh_CN/latest/#mkdocs  \n",
    "mkdocs --help 查看命令功能  \n",
    "mkdocs new [project_name] 创建一个mkdocs项目，包含一个配置文件mkdocs.yml,一个文档源码的docs文件夹，docs文件夹里包含一个index.md文档  \n",
    "cd [project_name] 切换到项目中"
   ]
  },
  {
   "cell_type": "code",
   "execution_count": null,
   "metadata": {},
   "outputs": [],
   "source": []
  }
 ],
 "metadata": {
  "kernelspec": {
   "display_name": "Python 3",
   "language": "python",
   "name": "python3"
  },
  "language_info": {
   "codemirror_mode": {
    "name": "ipython",
    "version": 3
   },
   "file_extension": ".py",
   "mimetype": "text/x-python",
   "name": "python",
   "nbconvert_exporter": "python",
   "pygments_lexer": "ipython3",
   "version": "3.6.3"
  },
  "toc": {
   "base_numbering": 1,
   "nav_menu": {
    "height": "68px",
    "width": "244px"
   },
   "number_sections": true,
   "sideBar": true,
   "skip_h1_title": false,
   "title_cell": "Table of Contents",
   "title_sidebar": "Contents",
   "toc_cell": true,
   "toc_position": {},
   "toc_section_display": true,
   "toc_window_display": true
  }
 },
 "nbformat": 4,
 "nbformat_minor": 2
}
