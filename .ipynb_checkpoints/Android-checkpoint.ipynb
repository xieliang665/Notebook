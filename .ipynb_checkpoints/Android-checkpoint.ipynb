{
 "cells": [
  {
   "cell_type": "markdown",
   "metadata": {
    "toc": true
   },
   "source": [
    "<h1>Table of Contents<span class=\"tocSkip\"></span></h1>\n",
    "<div class=\"toc\"><ul class=\"toc-item\"><li><span><a href=\"#Install\" data-toc-modified-id=\"Install-1\"><span class=\"toc-item-num\">1&nbsp;&nbsp;</span>Install</a></span></li><li><span><a href=\"#Error\" data-toc-modified-id=\"Error-2\"><span class=\"toc-item-num\">2&nbsp;&nbsp;</span>Error</a></span></li></ul></div>"
   ]
  },
  {
   "cell_type": "markdown",
   "metadata": {},
   "source": [
    "# Install"
   ]
  },
  {
   "cell_type": "markdown",
   "metadata": {},
   "source": [
    "windows下 android studio 2.0+版本内置了ide sdk jdk ,3.0+只有ide。ubuntu下只有ide,需分别安装sdk，jdk并配置环境变量\n"
   ]
  },
  {
   "cell_type": "markdown",
   "metadata": {},
   "source": [
    "# Error"
   ]
  },
  {
   "cell_type": "markdown",
   "metadata": {},
   "source": [
    "android studio的错误一般为版本的问题,在build.gradle中：  \n",
    "compileSdkVersion 23  \n",
    "buildToolsVersion '23.0.1'  \n",
    "defaultConfig {  \n",
    "applicationId \"cn.zju.id21732097.xieliang\"  \n",
    "minSdkVersion 23  \n",
    "targetSdkVersion 23  \n",
    "versionCode 1  \n",
    "versionName \"1.0\"  \n",
    "}  \n",
    "...  \n",
    "compile 'com.android.support:appcompat-v7:23.+'  \n",
    "compile 'com.android.support:design:23.+'  \n",
    "最好把所有的版本设置成相同的，如都为23\n",
    "\n",
    "Rendering Problems\n",
    "Failed to load platform rendering library\n",
    "因为渲染时选择默认选择了最高的android version,在Preview中选择对应的android version"
   ]
  },
  {
   "cell_type": "code",
   "execution_count": null,
   "metadata": {},
   "outputs": [],
   "source": []
  }
 ],
 "metadata": {
  "kernelspec": {
   "display_name": "Python 3",
   "language": "python",
   "name": "python3"
  },
  "language_info": {
   "codemirror_mode": {
    "name": "ipython",
    "version": 3
   },
   "file_extension": ".py",
   "mimetype": "text/x-python",
   "name": "python",
   "nbconvert_exporter": "python",
   "pygments_lexer": "ipython3",
   "version": "3.6.3"
  },
  "toc": {
   "base_numbering": 1,
   "nav_menu": {},
   "number_sections": true,
   "sideBar": true,
   "skip_h1_title": false,
   "title_cell": "Table of Contents",
   "title_sidebar": "Contents",
   "toc_cell": true,
   "toc_position": {},
   "toc_section_display": true,
   "toc_window_display": true
  }
 },
 "nbformat": 4,
 "nbformat_minor": 2
}
