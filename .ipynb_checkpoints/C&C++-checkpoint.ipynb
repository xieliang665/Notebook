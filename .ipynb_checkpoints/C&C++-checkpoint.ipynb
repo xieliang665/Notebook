{
 "cells": [
  {
   "cell_type": "markdown",
   "metadata": {
    "toc": true
   },
   "source": [
    "<h1>Table of Contents<span class=\"tocSkip\"></span></h1>\n",
    "<div class=\"toc\"><ul class=\"toc-item\"></ul></div>"
   ]
  },
  {
   "cell_type": "markdown",
   "metadata": {},
   "source": [
    "# Data Type"
   ]
  },
  {
   "cell_type": "markdown",
   "metadata": {},
   "source": [
    "## String"
   ]
  },
  {
   "cell_type": "markdown",
   "metadata": {},
   "source": [
    "c语言中用字符数组和字符指针表示数组：  \n",
    "\n",
    "char* chp=\"hello\";  \n",
    "直接在常量区中的字符串“hello”的地址赋给指针chp   \n",
    "对字符指针赋值前需要先初始化，即分配大小，否则会出现段错误，如：    \n",
    "char* p;  \n",
    "char* pp=p;//段错误，p未初始化  \n",
    "char* p=malloc(5);  \n",
    "char* pp=p;//正确\n",
    "\n",
    "char charr=\"another hello\";  \n",
    "将常量区中的字符串“another hello”按4字节单位一个个拷贝到栈内存中  \n",
    "然后指针charr指向这片内存  \n",
    "\n",
    "综上，字符指针只能访问不能改写,否则会出现段错误，而字符数组可以改写。"
   ]
  },
  {
   "cell_type": "markdown",
   "metadata": {},
   "source": [
    "字符串的初始化：\n",
    "\n",
    "char a[3]=\"123\"  \n",
    "结果：  \n",
    "strlen(a)=53 //值不确定，strlen()检测字符串末尾的'/0',如果没有检测到则继续往后检测  \n",
    "sizeof(a)=3\n",
    "\n",
    "char a[5]=\"123\"  \n",
    "结果：  \n",
    "strlen(a)=3 //系统自动在末尾添加'/0'   \n",
    "sizeof(a)=5\n",
    "\n",
    "char a[]=\"123\"  \n",
    "结果：  \n",
    "strlen(a)=3  //系统自动在末尾加上'/0'  \n",
    "sizeof(a)=4\n",
    "\n",
    "char* a=\"123\"  \n",
    "结果:  \n",
    "strlen(a)=3  //系统自动在末尾加'/0'  \n",
    "sizeof(a)=4  //指针变量为4个字节\n",
    "\n",
    "char a[10]=\"123\"  \n",
    "char* b=a;  \n",
    "结果：   \n",
    "strlen(a)=3  \n",
    "strlen(b)=3\n",
    " \n",
    "字符串的赋值：\n",
    "\n",
    "char a[];  \n",
    "a=\"hello\";\n",
    "编译错误，c语言没有提供字符数组的赋值，只能一个一个元素赋值或在初始化赋值  \n",
    "或使用字符串处理函数strcat() strcpy()\n",
    "\n",
    "char* a;  \n",
    "a=\"hello\";  \n",
    "编译成功，可以直接对字符指针赋值"
   ]
  },
  {
   "cell_type": "markdown",
   "metadata": {},
   "source": [
    "## Pointer"
   ]
  },
  {
   "cell_type": "code",
   "execution_count": 2,
   "metadata": {},
   "outputs": [
    {
     "ename": "SyntaxError",
     "evalue": "invalid character in identifier (<ipython-input-2-448516682881>, line 1)",
     "output_type": "error",
     "traceback": [
      "\u001b[0;36m  File \u001b[0;32m\"<ipython-input-2-448516682881>\"\u001b[0;36m, line \u001b[0;32m1\u001b[0m\n\u001b[0;31m    二重指针：\u001b[0m\n\u001b[0m        ^\u001b[0m\n\u001b[0;31mSyntaxError\u001b[0m\u001b[0;31m:\u001b[0m invalid character in identifier\n"
     ]
    }
   ],
   "source": [
    "二重指针：\n",
    "\n",
    "\n",
    "void func(char** pp){  \n",
    "    pp=malloc(5);  \n",
    "}\n",
    "\n",
    "main(){  \n",
    "    char* p=malloc(10);    \n",
    "    func(&p);  \n",
    "}  \n",
    "\n",
    "此时在函数func中改变指针p的指向，真正实现传递引用\n",
    "\n",
    "二重指针  \n",
    "char** pp;  \n",
    "*pp[n]和(**pp)[n]是不一样的"
   ]
  },
  {
   "cell_type": "markdown",
   "metadata": {},
   "source": [
    "## FILE"
   ]
  },
  {
   "cell_type": "markdown",
   "metadata": {},
   "source": [
    "FILE*类型  stdin 标准输入 "
   ]
  }
 ],
 "metadata": {
  "kernelspec": {
   "display_name": "Python 3",
   "language": "python",
   "name": "python3"
  },
  "language_info": {
   "codemirror_mode": {
    "name": "ipython",
    "version": 3
   },
   "file_extension": ".py",
   "mimetype": "text/x-python",
   "name": "python",
   "nbconvert_exporter": "python",
   "pygments_lexer": "ipython3",
   "version": "3.6.4"
  },
  "toc": {
   "base_numbering": 1,
   "nav_menu": {},
   "number_sections": true,
   "sideBar": true,
   "skip_h1_title": false,
   "title_cell": "Table of Contents",
   "title_sidebar": "Contents",
   "toc_cell": true,
   "toc_position": {},
   "toc_section_display": true,
   "toc_window_display": false
  }
 },
 "nbformat": 4,
 "nbformat_minor": 2
}
