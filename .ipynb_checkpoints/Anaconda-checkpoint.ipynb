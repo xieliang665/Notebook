{
 "cells": [
  {
   "cell_type": "markdown",
   "metadata": {
    "toc": true
   },
   "source": [
    "<h1>Table of Contents<span class=\"tocSkip\"></span></h1>\n",
    "<div class=\"toc\"><ul class=\"toc-item\"><li><span><a href=\"#CMD\" data-toc-modified-id=\"CMD-1\"><span class=\"toc-item-num\">1&nbsp;&nbsp;</span>CMD</a></span></li><li><span><a href=\"#Mirror-Source\" data-toc-modified-id=\"Mirror-Source-2\"><span class=\"toc-item-num\">2&nbsp;&nbsp;</span>Mirror Source</a></span></li><li><span><a href=\"#JUPYTER\" data-toc-modified-id=\"JUPYTER-3\"><span class=\"toc-item-num\">3&nbsp;&nbsp;</span>JUPYTER</a></span><ul class=\"toc-item\"><li><span><a href=\"#Cmd\" data-toc-modified-id=\"Cmd-3.1\"><span class=\"toc-item-num\">3.1&nbsp;&nbsp;</span>Cmd</a></span></li><li><span><a href=\"#插入图片\" data-toc-modified-id=\"插入图片-3.2\"><span class=\"toc-item-num\">3.2&nbsp;&nbsp;</span>插入图片</a></span></li></ul></li></ul></div>"
   ]
  },
  {
   "cell_type": "markdown",
   "metadata": {},
   "source": [
    "# CMD"
   ]
  },
  {
   "cell_type": "markdown",
   "metadata": {},
   "source": [
    "普通用户下：\n",
    "查询conda版本 conda -V\n",
    "\n",
    "创建新的环境 conda create -n env_name python=3.6\n",
    "\n",
    "激活版本 source activate env_name\n",
    "\n",
    "关闭虚拟环境 source deactivate\n",
    "\n",
    "查询安装库文件 conda list\n",
    "\n",
    "查询虚拟环境 conda env list\n",
    "\n",
    "删除虚拟环境 conda remove -n env_name --all\n",
    "\n",
    "删除环境中的包 conda remove --name env_name package_name\n",
    "\n",
    "为jupyter notebook增加目录Table of Contents(2) conda install -c conda-forge jupyter_contrib_nbextensions"
   ]
  },
  {
   "cell_type": "markdown",
   "metadata": {},
   "source": [
    "# Mirror Source"
   ]
  },
  {
   "cell_type": "markdown",
   "metadata": {},
   "source": [
    "cd $HOME  \n",
    "mkdir .pip  \n",
    "cd .pip\n",
    "sudo vim pip.conf  \n",
    "\n",
    "在里面添加  \n",
    "[global]  \n",
    "index-url=https://pypi.tuna.tsinghua.edu.cn/simple\n",
    "[install]  \n",
    "trusted-host=pypi.tuna.tsinghua.edu.cn \n",
    "disable-pip-version-check = true  \n",
    "timeout = 6000\n",
    "\n",
    "conda config --add channels 'https://mirrors.tuna.tsinghua.edu.cn/anaconda/pkgs/free/'\n",
    "conda config --set show_channel_urls yes\n",
    "好了，这次可以开心的下载东西了\n",
    "如何删除添加的源呢？\n",
    "conda config --remove channels 'https://mirrors.tuna.tsinghua.edu.cn/anaconda/pkgs/free/' \n",
    "看看当前的 cofig 是什么样的\n",
    "conda config --show"
   ]
  },
  {
   "cell_type": "markdown",
   "metadata": {},
   "source": [
    "# JUPYTER"
   ]
  },
  {
   "cell_type": "markdown",
   "metadata": {},
   "source": [
    "## Cmd "
   ]
  },
  {
   "cell_type": "code",
   "execution_count": 1,
   "metadata": {},
   "outputs": [
    {
     "name": "stdout",
     "output_type": "stream",
     "text": [
      "Python 3.6.3 :: Anaconda, Inc.\r\n"
     ]
    }
   ],
   "source": [
    "!python --version"
   ]
  },
  {
   "cell_type": "markdown",
   "metadata": {},
   "source": [
    "## 插入图片"
   ]
  },
  {
   "cell_type": "markdown",
   "metadata": {},
   "source": [
    "![title](img/example)"
   ]
  },
  {
   "cell_type": "markdown",
   "metadata": {},
   "source": [
    "<img src=\"img/example\"/>"
   ]
  },
  {
   "cell_type": "code",
   "execution_count": null,
   "metadata": {
    "collapsed": true
   },
   "outputs": [],
   "source": []
  }
 ],
 "metadata": {
  "kernelspec": {
   "display_name": "Python 3",
   "language": "python",
   "name": "python3"
  },
  "language_info": {
   "codemirror_mode": {
    "name": "ipython",
    "version": 3
   },
   "file_extension": ".py",
   "mimetype": "text/x-python",
   "name": "python",
   "nbconvert_exporter": "python",
   "pygments_lexer": "ipython3",
   "version": "3.6.3"
  },
  "toc": {
   "base_numbering": 1,
   "nav_menu": {},
   "number_sections": true,
   "sideBar": true,
   "skip_h1_title": false,
   "title_cell": "Table of Contents",
   "title_sidebar": "Contents",
   "toc_cell": true,
   "toc_position": {},
   "toc_section_display": true,
   "toc_window_display": true
  }
 },
 "nbformat": 4,
 "nbformat_minor": 2
}
