{
 "cells": [
  {
   "cell_type": "markdown",
   "metadata": {
    "toc": true
   },
   "source": [
    "<h1>Table of Contents<span class=\"tocSkip\"></span></h1>\n",
    "<div class=\"toc\"><ul class=\"toc-item\"><li><span><a href=\"#CMD\" data-toc-modified-id=\"CMD-1\"><span class=\"toc-item-num\">1&nbsp;&nbsp;</span>CMD</a></span></li><li><span><a href=\"#Main-Memory\" data-toc-modified-id=\"Main-Memory-2\"><span class=\"toc-item-num\">2&nbsp;&nbsp;</span>Main Memory</a></span></li><li><span><a href=\"#Thread\" data-toc-modified-id=\"Thread-3\"><span class=\"toc-item-num\">3&nbsp;&nbsp;</span>Thread</a></span></li><li><span><a href=\"#Data-Type\" data-toc-modified-id=\"Data-Type-4\"><span class=\"toc-item-num\">4&nbsp;&nbsp;</span>Data Type</a></span><ul class=\"toc-item\"><li><span><a href=\"#String\" data-toc-modified-id=\"String-4.1\"><span class=\"toc-item-num\">4.1&nbsp;&nbsp;</span>String</a></span></li></ul></li><li><span><a href=\"#Method-Overloading\" data-toc-modified-id=\"Method-Overloading-5\"><span class=\"toc-item-num\">5&nbsp;&nbsp;</span>Method Overloading</a></span></li><li><span><a href=\"#Key-Words\" data-toc-modified-id=\"Key-Words-6\"><span class=\"toc-item-num\">6&nbsp;&nbsp;</span>Key Words</a></span><ul class=\"toc-item\"><li><span><a href=\"#this\" data-toc-modified-id=\"this-6.1\"><span class=\"toc-item-num\">6.1&nbsp;&nbsp;</span>this</a></span></li><li><span><a href=\"#static\" data-toc-modified-id=\"static-6.2\"><span class=\"toc-item-num\">6.2&nbsp;&nbsp;</span>static</a></span></li></ul></li></ul></div>"
   ]
  },
  {
   "cell_type": "markdown",
   "metadata": {},
   "source": [
    "# CMD"
   ]
  },
  {
   "cell_type": "markdown",
   "metadata": {},
   "source": [
    "javac a.java  \n",
    "java a"
   ]
  },
  {
   "cell_type": "markdown",
   "metadata": {},
   "source": [
    "# Main Memory"
   ]
  },
  {
   "cell_type": "markdown",
   "metadata": {},
   "source": [
    "代码区：存储代码\n",
    "栈区：存储基本类型变量及对象引用名\n",
    "堆区：存储对象"
   ]
  },
  {
   "cell_type": "markdown",
   "metadata": {},
   "source": [
    "![title](img/memory.png)"
   ]
  },
  {
   "cell_type": "code",
   "execution_count": null,
   "metadata": {
    "collapsed": true
   },
   "outputs": [],
   "source": [
    "class Data{\n",
    "    int i; ##属于对象的数据成员，位于heap\n",
    "    void func(){ ##属于对象的成员函数，位于heap\n",
    "        int i=5; ##属于临时变量，位于stack\n",
    "        int j=i*10; ##临时变量，位于stack\n",
    "    }\n",
    "}"
   ]
  },
  {
   "cell_type": "markdown",
   "metadata": {},
   "source": [
    "# Thread"
   ]
  },
  {
   "cell_type": "code",
   "execution_count": 4,
   "metadata": {},
   "outputs": [
    {
     "ename": "SyntaxError",
     "evalue": "invalid character in identifier (<ipython-input-4-76f5a73b7387>, line 1)",
     "output_type": "error",
     "traceback": [
      "\u001b[1;36m  File \u001b[1;32m\"<ipython-input-4-76f5a73b7387>\"\u001b[1;36m, line \u001b[1;32m1\u001b[0m\n\u001b[1;33m    实现多线程的两种方法 继承thread类和实现runnable接口：\u001b[0m\n\u001b[1;37m                                     ^\u001b[0m\n\u001b[1;31mSyntaxError\u001b[0m\u001b[1;31m:\u001b[0m invalid character in identifier\n"
     ]
    }
   ],
   "source": [
    "实现多线程的两种方法 继承thread类和实现runnable接口： \n",
    "\n",
    "public class TicketThread extends Thread{\n",
    "   \n",
    "    private int ticket = 10; ##对象的数据成员，位于heap,多线程共享同一个对象的heap资源\n",
    "\n",
    "    public void run(){\n",
    "        for(int i =0;i<10;i++){ ##int i为临时变量，位于stack,每个线程有自己独立的stack，i为不共享的资源\n",
    "            synchronized (this){ ##锁定{代码块},当某一线程执行该代码块，其他线程不可以插入，直到当前线程完成该代码块并释放锁\n",
    "                if(this.ticket>0){\n",
    "                    try {\n",
    "                        Thread.sleep(100);\n",
    "                        System.out.println(Thread.currentThread().getName()+\"卖票---->\"+(this.ticket--));\n",
    "                    } catch (InterruptedException e) {\n",
    "                        e.printStackTrace();\n",
    "                    }\n",
    "                }\n",
    "            }\n",
    "        }\n",
    "    }\n",
    "\n",
    "    public static void main(String[] arg){ ##主线程\n",
    "        TicketThread t1 = new TicketThread();\n",
    "        new Thread(t1,\"线程1\").start(); ##线程1\n",
    "        new Thread(t1,\"线程2\").start(); ##线程2\n",
    "    }\n",
    "}\n",
    "\n",
    "输出：   \n",
    "线程1卖票—->10   \n",
    "线程1卖票—->9   \n",
    "线程1卖票—->8   \n",
    "线程2卖票—->7   \n",
    "线程2卖票—->6   \n",
    "线程1卖票—->5   \n",
    "线程1卖票—->4   \n",
    "线程2卖票—->3   \n",
    "线程2卖票—->2   \n",
    "线程1卖票—->1\n",
    "\n",
    "public class TicketRunnable implements Runnable{\n",
    "\n",
    "   private int ticket = 10;\n",
    "\n",
    "    @Override\n",
    "    public void run() {\n",
    "        for(int i =0;i<10;i++){\n",
    "            synchronized (this){ ##若没有使用synchronized关键字，则有可能抢到0的票，即卖出11张票\n",
    "                if(this.ticket>0){\n",
    "                    try {\n",
    "                        Thread.sleep(100);\n",
    "                        System.out.println(Thread.currentThread().getName()+\"卖票---->\"+(this.ticket--));\n",
    "                    } catch (Exception e) {\n",
    "                        e.printStackTrace();\n",
    "                    }\n",
    "                }\n",
    "            }\n",
    "        }\n",
    "    }\n",
    "\n",
    "    public static void main(String[] arg){\n",
    "        TicketRunnable t1 = new TicketRunnable();\n",
    "        new Thread(t1, \"线程1\").start();\n",
    "        new Thread(t1, \"线程2\").start();\n",
    "    }\n",
    "}\n",
    "\n",
    "输出：   \n",
    "线程1卖票—->10   \n",
    "线程1卖票—->9   \n",
    "线程1卖票—->8   \n",
    "线程1卖票—->7   \n",
    "线程2卖票—->6   \n",
    "线程2卖票—->5   \n",
    "线程2卖票—->4   \n",
    "线程2卖票—->3   \n",
    "线程2卖票—->2   \n",
    "线程2卖票—->1  "
   ]
  },
  {
   "cell_type": "markdown",
   "metadata": {},
   "source": [
    "# Data Type"
   ]
  },
  {
   "cell_type": "markdown",
   "metadata": {},
   "source": [
    "## String"
   ]
  },
  {
   "cell_type": "markdown",
   "metadata": {},
   "source": [
    "String s;  ##在stack存储该引用s\n",
    "\n",
    "String s=\"ABC\";  ##在stack存储引用s，并在字符串池中写入\"ABC\"，s指向它\n",
    "\n",
    "String s=new String(\"ABC\"); ##在stack存储引用s，在heap存储该对象，对象初始化为ABC，s指向它"
   ]
  },
  {
   "cell_type": "markdown",
   "metadata": {},
   "source": [
    "# Method Overloading"
   ]
  },
  {
   "cell_type": "markdown",
   "metadata": {},
   "source": [
    "参数列表不同是必要条件  \n",
    "\n",
    "参数向上转型：如实参为int，形参为long，则实参自动转为long\n",
    "\n",
    "当定义f(int)；f(long); 此时函数f(5)采用就近原则调用f(int)"
   ]
  },
  {
   "cell_type": "markdown",
   "metadata": {},
   "source": [
    "# Key Words"
   ]
  },
  {
   "cell_type": "markdown",
   "metadata": {},
   "source": [
    "## this"
   ]
  },
  {
   "cell_type": "code",
   "execution_count": 6,
   "metadata": {},
   "outputs": [
    {
     "ename": "SyntaxError",
     "evalue": "invalid syntax (<ipython-input-6-613d2f0d2511>, line 1)",
     "output_type": "error",
     "traceback": [
      "\u001b[1;36m  File \u001b[1;32m\"<ipython-input-6-613d2f0d2511>\"\u001b[1;36m, line \u001b[1;32m1\u001b[0m\n\u001b[1;33m    public class Flower {\u001b[0m\n\u001b[1;37m               ^\u001b[0m\n\u001b[1;31mSyntaxError\u001b[0m\u001b[1;31m:\u001b[0m invalid syntax\n"
     ]
    }
   ],
   "source": [
    "public class Flower {\n",
    "\tint petalCount = 0; \n",
    "\tString s = new String(\"null\"); \n",
    "\n",
    "\tFlower(int petals) { \n",
    "\t\tpetalCount = petals; \n",
    "\t\tSystem.out.println( \"Constructor w/ int arg only, petalCount= \" + \t\tpetalCount); \n",
    "\t} \n",
    "\tFlower(String ss) { \n",
    "\t\tSystem.out.println( \"Constructor w/ String arg only, s=\" + ss); s = ss; \n",
    "\t} \n",
    "\tFlower(String s, int petals) { \n",
    "\t\tthis(petals); //! this(s); // Can't call two!  \n",
    "\t\tthis.s = s; // Another use of \"this\" \n",
    "\t\tSystem.out.println(\"String & int args\"); \n",
    "\t} \n",
    "\tFlower() { \n",
    "\t\tthis(\"hi\", 47); //this表示构造函数\n",
    "\t\tSystem.out.println(\"default constructor (no args)\"); \n",
    "\t} \n",
    "\tvoid print() { //! this(11); // Not inside non-constructor! System.out.println( \"petalCount = \" + petalCount + \" s = \"+ s); } \n"
   ]
  },
  {
   "cell_type": "markdown",
   "metadata": {},
   "source": [
    "## static"
   ]
  },
  {
   "cell_type": "markdown",
   "metadata": {},
   "source": [
    "The meaning of static method:   \n",
    "It means that there is no this for that particular method.  \n",
    "You cannot call non-static methods /or access non-static field from inside static methods (but reverse OK)  \n",
    "You can call a static method for the class itself, without any object. \n",
    "\n",
    "The meaning of static field:  \n",
    "There’s only a single piece of storage for a static field, regardless of how many objects are created.  \n",
    "(It’s kind of global data/variable for all objects of the same class)  \n",
    "You can access a static field for the class itself, without any object.\n",
    "  \n",
    "Order of initialization(in the case of new object):  \n",
    "static first =>specifying init\t=>Constructor initialization  \n",
    "Within a class, the order of specifying initialization is determined by the order that the variables are defined within the class  \n",
    "The static initialization occurs only ONCE. They are initialized only when the first object is created (or the first static access occurs).   \n",
    "In fact, the static initialization takes place when JVM loads a class file into its memory.  "
   ]
  },
  {
   "cell_type": "code",
   "execution_count": 9,
   "metadata": {},
   "outputs": [
    {
     "ename": "SyntaxError",
     "evalue": "invalid syntax (<ipython-input-9-993eb2525dbf>, line 1)",
     "output_type": "error",
     "traceback": [
      "\u001b[1;36m  File \u001b[1;32m\"<ipython-input-9-993eb2525dbf>\"\u001b[1;36m, line \u001b[1;32m1\u001b[0m\n\u001b[1;33m    class Bowl {\u001b[0m\n\u001b[1;37m               ^\u001b[0m\n\u001b[1;31mSyntaxError\u001b[0m\u001b[1;31m:\u001b[0m invalid syntax\n"
     ]
    }
   ],
   "source": [
    "class Bowl { \n",
    "\tBowl(int marker) { \n",
    "\t\tSystem.out.println(\"Bowl(\" + marker + \")\");\n",
    "\t } \t\n",
    "\tvoid f(int marker) { \n",
    "\t\tSystem.out.println(\"f(\" + marker + \")\"); \n",
    "\t}\n",
    " } \n",
    "class Table { \n",
    "\tstatic Bowl b1 = new Bowl(1); \n",
    "\tTable() { System.out.println(\"Table()\"); b2.f(1); } \n",
    "\tvoid f2(int marker) { System.out.println(\"f2(\" + marker + \")\"); } \n",
    "\tstatic Bowl b2 = new Bowl(2);\n",
    " } \n",
    "class Cupboard { \n",
    "\tBowl b3 = new Bowl(3); \n",
    "\tstatic Bowl b4 = new Bowl(4); \n",
    "\tCupboard() { System.out.println(\"Cupboard()\"); b4.f(2); }\n",
    "\tvoid f3(int marker) { System.out.println(\"f3(\" + marker + \")\"); } \n",
    "\tstatic Bowl b5 = new Bowl(5); \n",
    "}\n",
    " public class StaticInitialization { \n",
    "\tpublic static void main(String[] args) { \n",
    "\t    System.out.println( \"Creating new Cupboard() in main\"); \n",
    "\t    new Cupboard(); \n",
    "\t    System.out.println( \"Creating new Cupboard() in main\"); \n",
    "\t    new Cupboard(); \n",
    "\t    t2.f2(1);          t3.f3(1); \t\n",
    "      } \n",
    "\tstatic Table t2 = new Table(); \n",
    "\tstatic Cupboard t3 = new Cupboard(); \n",
    "} ///:~ \n",
    "\n",
    "//初始化过程：（初始化包括导入类，为变量开辟空间，对变量赋值）\n",
    "//23行开始执行->30(导入class Tabel，仅导入一次,初始化t2)->10->9(导入class Bowl,初始化b1)->2->13(初始化b2)->2->11（构造函数最后调用）->  \n",
    "//31(导入class Cupboard,初始化t3)->17(初始化b4)->2->20(初始化b5)->2->16(初始化b3)->2->18(构造函数最后调用)->25->16(static仅初始化一次)   \n",
    "//18->27->16->18  \n",
    "Bowl(1)\n",
    "Bowl(2)\n",
    "Table() \n",
    "f(1) \n",
    "Bowl(4) \n",
    "Bowl(5) \n",
    "Bowl(3) \n",
    "Cupboard() \n",
    "f(2) \n",
    "Creating new Cupboard() in main \n",
    "Bowl(3) \n",
    "Cupboard() \n",
    "f(2) \n",
    "Creating new Cupboard() in main \n",
    "Bowl(3) \n",
    "Cupboard()\n",
    "f(2)\n",
    "f2(1)\n",
    "f3(1) "
   ]
  },
  {
   "cell_type": "code",
   "execution_count": null,
   "metadata": {
    "collapsed": true
   },
   "outputs": [],
   "source": []
  }
 ],
 "metadata": {
  "kernelspec": {
   "display_name": "Python 3",
   "language": "python",
   "name": "python3"
  },
  "language_info": {
   "codemirror_mode": {
    "name": "ipython",
    "version": 3
   },
   "file_extension": ".py",
   "mimetype": "text/x-python",
   "name": "python",
   "nbconvert_exporter": "python",
   "pygments_lexer": "ipython3",
   "version": "3.6.3"
  },
  "toc": {
   "base_numbering": 1,
   "nav_menu": {},
   "number_sections": true,
   "sideBar": true,
   "skip_h1_title": false,
   "title_cell": "Table of Contents",
   "title_sidebar": "contents",
   "toc_cell": true,
   "toc_position": {},
   "toc_section_display": true,
   "toc_window_display": true
  }
 },
 "nbformat": 4,
 "nbformat_minor": 2
}
