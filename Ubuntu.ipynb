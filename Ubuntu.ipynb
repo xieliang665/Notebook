{
 "cells": [
  {
   "cell_type": "markdown",
   "metadata": {
    "toc": true
   },
   "source": [
    "<h1>Table of Contents<span class=\"tocSkip\"></span></h1>\n",
    "<div class=\"toc\"><ul class=\"toc-item\"><li><span><a href=\"#CMD\" data-toc-modified-id=\"CMD-1\"><span class=\"toc-item-num\">1&nbsp;&nbsp;</span>CMD</a></span><ul class=\"toc-item\"><li><span><a href=\"#System\" data-toc-modified-id=\"System-1.1\"><span class=\"toc-item-num\">1.1&nbsp;&nbsp;</span>System</a></span></li><li><span><a href=\"#File\" data-toc-modified-id=\"File-1.2\"><span class=\"toc-item-num\">1.2&nbsp;&nbsp;</span>File</a></span></li><li><span><a href=\"#mirror-source\" data-toc-modified-id=\"mirror-source-1.3\"><span class=\"toc-item-num\">1.3&nbsp;&nbsp;</span>mirror source</a></span></li><li><span><a href=\"#apt-get\" data-toc-modified-id=\"apt-get-1.4\"><span class=\"toc-item-num\">1.4&nbsp;&nbsp;</span>apt-get</a></span></li><li><span><a href=\"#aptitude\" data-toc-modified-id=\"aptitude-1.5\"><span class=\"toc-item-num\">1.5&nbsp;&nbsp;</span>aptitude</a></span></li><li><span><a href=\"#vim\" data-toc-modified-id=\"vim-1.6\"><span class=\"toc-item-num\">1.6&nbsp;&nbsp;</span>vim</a></span></li><li><span><a href=\"#Git\" data-toc-modified-id=\"Git-1.7\"><span class=\"toc-item-num\">1.7&nbsp;&nbsp;</span>Git</a></span></li></ul></li><li><span><a href=\"#INSTALL\" data-toc-modified-id=\"INSTALL-2\"><span class=\"toc-item-num\">2&nbsp;&nbsp;</span>INSTALL</a></span><ul class=\"toc-item\"><li><span><a href=\"#System-directory\" data-toc-modified-id=\"System-directory-2.1\"><span class=\"toc-item-num\">2.1&nbsp;&nbsp;</span>System directory</a></span></li><li><span><a href=\"#make\" data-toc-modified-id=\"make-2.2\"><span class=\"toc-item-num\">2.2&nbsp;&nbsp;</span>make</a></span></li></ul></li><li><span><a href=\"#Shell\" data-toc-modified-id=\"Shell-3\"><span class=\"toc-item-num\">3&nbsp;&nbsp;</span>Shell</a></span></li></ul></div>"
   ]
  },
  {
   "cell_type": "markdown",
   "metadata": {},
   "source": [
    "# CMD"
   ]
  },
  {
   "cell_type": "markdown",
   "metadata": {},
   "source": [
    "command [-op/--options] parameter1 parameter ...  \n",
    "指令  选项  参数1  参数2\n",
    "\n",
    "自动补全指令 TAB \n",
    "\n",
    "联机查看指令使用方法 man command"
   ]
  },
  {
   "cell_type": "markdown",
   "metadata": {},
   "source": [
    "## System "
   ]
  },
  {
   "cell_type": "markdown",
   "metadata": {},
   "source": [
    "查看ubuntu版本 cat /etc/issue\n",
    "\n",
    "查看当前登入用户 w\n",
    "\n",
    "查看分区挂载情况 df -h\n",
    "\n",
    "查看当前cpu top\n",
    "\n",
    "动态监视内存使用情况 watch -d free  使用ctrl+c退出\n",
    "\n",
    "查看内存状况 free -h\n",
    "\n",
    "删除当前目录下的文件 rm -rf 文件名\n",
    "\n",
    "添加环境变量 gedit /etc/profile  export PATH=绝对路径 \n",
    "\n",
    "查看swap分区参数设置 cat /proc/sys/vm/swappiness 默认是60（swappiness=100表示积极使用swap分区，把物理内存上的数据及时搬到swap分区上，swappiness=0表示最大限度使用物理内存）\n",
    "\n",
    "修改swappiness sudo sysctl vm.swappiness=10(临时修改，在重启时会恢复到60，sudo gedit /etc/sysctl.conf在这个文档的最后加上：vm.swappiness=10)\n",
    "\n",
    "查看日期 date\n",
    "\n",
    "查看日历 cal\n",
    "\n",
    "简单计算器 bc\n",
    "\n",
    "查看当前用户的环境变量 echo $PATH ($表示后面接的是变量)\n",
    "\n",
    "添加路径到当前用户下的环境变量 PATH=\"$PATH\":absolutu-path\n",
    "\n",
    "查询有线、无线网卡型号 lspci | grep -i net"
   ]
  },
  {
   "cell_type": "markdown",
   "metadata": {},
   "source": [
    "## File "
   ]
  },
  {
   "cell_type": "markdown",
   "metadata": {},
   "source": [
    "更新profile文件使文件配置生效 source /etc/profile\n",
    "\n",
    "复制文件 cp 原文件路径 复制至路径\n",
    "\n",
    "创建文件夹 mkdir 绝对路径\n",
    "\n",
    "进入文件夹 cd 绝对路径\n",
    "\n",
    "查看当前目录绝对路径 pwd\n",
    "\n",
    "回到home目录 cd ~/cd\n",
    "\n",
    "回到上一级目录 cd -\n"
   ]
  },
  {
   "cell_type": "markdown",
   "metadata": {},
   "source": [
    "## mirror source"
   ]
  },
  {
   "cell_type": "markdown",
   "metadata": {},
   "source": [
    "法1）打开配置文件 sudo gedit /etc/apt/sources.list    \n",
    " \n",
    "在最后添加镜像源 如 deb http://archive.ubuntu.com/ubuntu xenial main\n",
    "\n",
    "法2) 打开系统设置->软件更新-> 其他软件->添加 "
   ]
  },
  {
   "cell_type": "markdown",
   "metadata": {},
   "source": [
    "## apt-get "
   ]
  },
  {
   "cell_type": "markdown",
   "metadata": {},
   "source": [
    "linux发行版(ubuntu)的包管理器\n",
    "\n",
    "更新包列表 sudo apt-get update \n",
    "update is used to download package information from all configured sources： 从源服务器(软件和更新可设置)（软件源服务器地址：sudo gedit /etc/apt/sources.list）那里下载最新的软件包列表，软件包列表包括包的版本，系统要求，翻译，依赖项等包信息。update命令后从软件源列表更新的index files存放在/var/lib/apt/lists\n",
    "\n",
    "安装应用程序跟新 sudo apt-get upgrade\n",
    "upgrade is used to install available upgrades of all packages currently installed on the system from the sources configured via sources.list：对已经安装的软件包进行更新。确定要更新的软件包需要对本地安装的版本和最新的包列表的版本进行比较，所以要在update之后运行这一条。下载的包存放在/var/cache/apt/archives\n",
    "\n",
    "安装所有可用更新 sudo apt-get dist-upgrade\n",
    "最新的包列表中包的依赖发生改变时upgrade会拒绝升级，此时使用该指令\n",
    "\n",
    "安装软件 sudo apt-get install pkg-name \n",
    "\n",
    "查询软件 apt-cache search pkg-name / aptitude search pkg-name\n",
    "根据最新的包列表查询可安装的包\n",
    "\n",
    "查找当前ubuntu下安装的软件 dpkg -l\n",
    "\n",
    "查找当前系统是否安装某软件 dpkg -l *google*  不知道软件全称时加通配符**方便查找，可以找到所有与google有关的软件\n",
    "\n",
    "查询软件安装位置 dpkg -L pkg-name\n",
    "\n",
    "删除已卸载的软件的deb安装包 apt-get autoclean\n",
    "\n",
    "删除所有deb安装包\n",
    "\n",
    "卸载软件 sudo apt-get --purge remove pkg-name （purge表示彻底删除）\n",
    "\n",
    "查询软件版本 apt-show-versions -a pka-name / aptitude versions pkg-name\n",
    "\n",
    "卸载软件 sudo apt-get remove pkg-name"
   ]
  },
  {
   "cell_type": "markdown",
   "metadata": {},
   "source": [
    "## aptitude"
   ]
  },
  {
   "cell_type": "markdown",
   "metadata": {},
   "source": [
    "采用apt-get install安装遇到包的依赖性问题，可以采用版本降级的方式安装依赖包\n",
    "\n",
    "如在安装相应软件，可能会出现类似以下情况\n",
    "\n",
    " libsdl1.2debian (= 1.2.15-10) 但是 1.2.15-10+rpi1 正要被安装\n",
    "\n",
    "                 依赖: libasound2-dev 但是它将不会被安装  1.0.28-1+rpi1 \n",
    "\n",
    "                 依赖: libglu1-mesa-dev 但是它将不会被安装  libglu-dev\n",
    "                 \n",
    "解决方法：\n",
    "sudo apt-get update  \n",
    "sudo apt-get upgrade   \n",
    "sudo aptitude install  libsdl1.2debian"
   ]
  },
  {
   "cell_type": "markdown",
   "metadata": {},
   "source": [
    "## vim "
   ]
  },
  {
   "cell_type": "markdown",
   "metadata": {},
   "source": [
    "vim filename 在当前目录新建文件\n",
    "\n",
    "i/I 在当前光标所在处插入输入的文字，已存在的字符向后退\n",
    "\n",
    "a/A 由当前光标所在处的下一个字符开始输入，已存在的字符向后退\n",
    "\n",
    "o/O 插入新的一行，从光标所在处的下一行行首开始输入\n",
    "\n",
    "r 替换光标所指的那一个字符，R会一直替换光标所指的字符直到Esc\n",
    "\n",
    "Esc 退出编辑模式，回到一般模式\n",
    "\n",
    ":w 将编辑的数据写入硬盘文件中\n",
    "\n",
    ":w！若文件为只读，强制写入该文件\n",
    "\n",
    ":q 退出vi\n",
    "\n",
    ":q! 若曾修改过文件，又不想保存，强制退出不保存文件\n",
    "\n",
    ":wq 退出后保存\n",
    "\n",
    ":wq！强制保存后退出\n",
    "\n",
    ":w [filename] 文件另存为\n",
    "\n",
    ":r [filename] 将filename文件中的内容加到光标所在的行的后面\n",
    "\n",
    ":set nu 每行前显示行号\n",
    "\n",
    ":set nonu 取消行号\n",
    "\n",
    "x 向后删除一个字符 X向前删除一个字符\n",
    "\n",
    "nx 向后删除n个字符\n",
    "\n",
    "dd 删除光标所在的整行\n",
    "\n",
    "ndd 删除包括光标所在的向下n行\n",
    "\n",
    "d1G 删除光标所在的行到第一行的所有数据\n",
    "\n",
    "dG 删除光标所在的行到最后一行\n",
    "\n",
    "yy 复制光标所在的行\n",
    "\n",
    "nyy y1G yG同理\n",
    "\n",
    "u 恢复前一个动作\n",
    "\n",
    "n<Enter> 光标向下移动n行\n",
    "\n",
    "0 移动到行的首字符\n",
    "\n",
    "G 移动到文件最后一行\n",
    "\n",
    "ctrl+f 屏幕向前翻动一页\n",
    "\n",
    "ctrl+b 屏幕向后翻动一页"
   ]
  },
  {
   "cell_type": "markdown",
   "metadata": {},
   "source": [
    "## Git "
   ]
  },
  {
   "cell_type": "markdown",
   "metadata": {},
   "source": [
    "官方文档：https://gitee.com/progit/index.html\n",
    "参考文档：https://github.com/xieliang655/data-blog https://blog.csdn.net/wangjia55/article/details/8802490\n",
    "\n",
    "git --help 查看命令功能\n",
    "\n",
    "创建本地仓库的两种方式：1）初始化 2）克隆  \n",
    "git init 在本地初始化一个仓库,会在当前目录下创建一个.git的文件夹, 初始化后添加完善个人信息git config --global user.email \"你的邮箱\"  git config --global user.name \"你的名字\"  \n",
    "\n",
    "git clone [remote_repo_url] 克隆一个远程仓库到本地  \n",
    "git clone https://github.com/xieliang655/notebook.git 在当前目录创建一个名为notebook的目录，其中包含一         个.git的目录，用于保存下载下来的所有版本记录，然后从中取出最新版本的文件拷贝。  \n",
    "git clone [remote_repo_url] [new_name] 克隆一个远程库到本地并重新命名  \n",
    "克隆操作会自动使用默认的master(本地分支)和origin(远程)\n",
    "\n",
    "echo [\"my first repository\"]>>[filename] 在当前目录下创建文档filename\n",
    "\n",
    "git status 查看当前文件状态\n",
    "\n",
    "git add [filename] 将文件纳入版本控制,将filename的文件信息添加到git仓库的索引库中\n",
    "\n",
    "git add .添加所有文件到索引库\n",
    "\n",
    "git commit [filename] 提交文件,将file添加到本地库 -m \"提交说明\"\n",
    "\n",
    "git status 检查当前目录下的文件的状态 跟踪|未跟踪，变更|未变更，提交|未提交（查看修改过的文件是否都add了，否则commit不会被提交）\n",
    "\n",
    ".gitignore文件中配置了我们不需要跟踪的文件类型\n",
    "\n",
    "git rm [filename] 移除已添加的文件filename，提交的时候该文件不会再纳入版本管理\n",
    "\n",
    "git remote 查看当前配置有哪些远程仓库 -v显示对应的远程地址\n",
    "\n",
    "git remote add [shortname] [url] 添加一个新的远程仓库，并简单命名以便将来引用\n",
    "\n",
    "git fetch [shortname] 抓取远程库中有的文件而本地仓库没有的文件至本地仓库\n",
    "\n",
    "Git 支持许多数据传输协议。之前的例子使用的是 git:// 协议，不过你也可以用 http(s):// 或者 user@server:/path.git 表示的 SSH 传输协议。\n",
    "\n",
    "git push [remote-name] [branch-name] 将本地仓库数据推送至远程仓库\n",
    "\n",
    "git remote show [remote-name] 查看某个远程仓库的详细信息\n",
    "\n",
    "git remote rm [remote-name] 删除某个远程仓库\n",
    "\n",
    "git remote rename [old-name] [new-name] 更改远程仓库名字"
   ]
  },
  {
   "cell_type": "markdown",
   "metadata": {},
   "source": [
    "# INSTALL"
   ]
  },
  {
   "cell_type": "markdown",
   "metadata": {},
   "source": [
    "## System directory"
   ]
  },
  {
   "cell_type": "markdown",
   "metadata": {},
   "source": [
    "/\n",
    "根目录：重装系统会将该分区格式化\n",
    "\n",
    "home\n",
    "如果该目录独立分区（相对根目录/），重装系统时只需格式化根目录，就像windows一样只需格式化c盘，home目录下用户数据将被保留，就像windows下的D盘。\n",
    "\n",
    "usr\n",
    "share->applications 软件快捷方式\n",
    "\n",
    "var\n",
    "cache->apt->archives 存放这所有deb格式的软件安装包，重装系统时将该目录独立分区\n",
    "\n",
    "安装包尽量不要选择rpm格式（不方便卸载），它不是ubuntu支持的安装包格式\n",
    "\n",
    "软件一般安装在/usr/local 或/home下\n",
    "\n",
    "创建软件快捷方式 所有快捷方式的启动图标都在/usr/share/applications/内 \n",
    "sudo gedit /usr/share/applications/xxx.desktop\n",
    "[Desktop Entry]\n",
    "Name=Android Studio\n",
    "Comment=android studio\n",
    "Exec=/home/xie/android_develop_tools/android-studio/bin/studio.sh \n",
    "Icon=/home/xie/android_develop_tools/android-studio/bin/studio.png\n",
    "Terminal=false\n",
    "Type=Application\n",
    "Categories=Application\n",
    "\n",
    "从指定路径打开命令窗口。进入指定文件夹，右键->在终端打开\n",
    "\n",
    "改变镜像源 系统设置->软件和跟新->下载自其他站点->选择最佳服务器"
   ]
  },
  {
   "cell_type": "markdown",
   "metadata": {},
   "source": [
    "## make"
   ]
  },
  {
   "cell_type": "markdown",
   "metadata": {},
   "source": [
    "./configure .表示当前目录，..表示上一层目录。./configure表示执行当前目录下的configure文件,执行完后会生成makefile文件，再执行make开始编译，最后执行make install将编译后的文件安装到系统中，安装路径在执行configure时指定"
   ]
  },
  {
   "cell_type": "markdown",
   "metadata": {},
   "source": [
    "# Shell"
   ]
  },
  {
   "cell_type": "markdown",
   "metadata": {},
   "source": [
    "## man"
   ]
  },
  {
   "attachments": {
    "image.png": {
     "image/png": "[encoded data removed]"
    }
   },
   "cell_type": "markdown",
   "metadata": {},
   "source": [
    "![image.png](attachment:image.png)"
   ]
  },
  {
   "cell_type": "markdown",
   "metadata": {},
   "source": [
    "man 3 fgets  读到换行符结束，换行符会存入字符串末尾，且在换行符后自动添加字符结束符'\\0'"
   ]
  },
  {
   "cell_type": "markdown",
   "metadata": {},
   "source": [
    "## system call"
   ]
  },
  {
   "cell_type": "markdown",
   "metadata": {},
   "source": [
    "strlen()  \n",
    "strcpy()  \n",
    "strcat()  \n",
    "strchr()  \n",
    "strncpy()  \n",
    "fgets()  \n",
    "int fileno(FILE* stream) //返回文件的文件描述符  \n",
    "int isatty(int fd)  //检测文件描述符fd是否连接到终端  \n",
    "perror()  \n",
    "sizeof()  \n",
    "malloc()  \n",
    "\n",
    "\n"
   ]
  },
  {
   "cell_type": "code",
   "execution_count": null,
   "metadata": {},
   "outputs": [],
   "source": []
  }
 ],
 "metadata": {
  "kernelspec": {
   "display_name": "Python 3",
   "language": "python",
   "name": "python3"
  },
  "language_info": {
   "codemirror_mode": {
    "name": "ipython",
    "version": 3
   },
   "file_extension": ".py",
   "mimetype": "text/x-python",
   "name": "python",
   "nbconvert_exporter": "python",
   "pygments_lexer": "ipython3",
   "version": "3.6.4"
  },
  "toc": {
   "base_numbering": 1,
   "nav_menu": {},
   "number_sections": true,
   "sideBar": true,
   "skip_h1_title": false,
   "title_cell": "Table of Contents",
   "title_sidebar": "Contents",
   "toc_cell": true,
   "toc_position": {
    "height": "calc(100% - 180px)",
    "left": "10px",
    "top": "150px",
    "width": "273px"
   },
   "toc_section_display": true,
   "toc_window_display": true
  }
 },
 "nbformat": 4,
 "nbformat_minor": 2
}
