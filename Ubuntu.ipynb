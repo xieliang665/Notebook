{
 "cells": [
  {
   "cell_type": "markdown",
   "metadata": {
    "toc": true
   },
   "source": [
    "<h1>Table of Contents<span class=\"tocSkip\"></span></h1>\n",
    "<div class=\"toc\"><ul class=\"toc-item\"><li><span><a href=\"#CMD\" data-toc-modified-id=\"CMD-1\"><span class=\"toc-item-num\">1&nbsp;&nbsp;</span>CMD</a></span><ul class=\"toc-item\"><li><span><a href=\"#System\" data-toc-modified-id=\"System-1.1\"><span class=\"toc-item-num\">1.1&nbsp;&nbsp;</span>System</a></span></li><li><span><a href=\"#File\" data-toc-modified-id=\"File-1.2\"><span class=\"toc-item-num\">1.2&nbsp;&nbsp;</span>File</a></span></li><li><span><a href=\"#apt-get\" data-toc-modified-id=\"apt-get-1.3\"><span class=\"toc-item-num\">1.3&nbsp;&nbsp;</span>apt-get</a></span></li><li><span><a href=\"#vim\" data-toc-modified-id=\"vim-1.4\"><span class=\"toc-item-num\">1.4&nbsp;&nbsp;</span>vim</a></span></li><li><span><a href=\"#Mirro-Source\" data-toc-modified-id=\"Mirro-Source-1.5\"><span class=\"toc-item-num\">1.5&nbsp;&nbsp;</span>Mirro Source</a></span></li><li><span><a href=\"#Git\" data-toc-modified-id=\"Git-1.6\"><span class=\"toc-item-num\">1.6&nbsp;&nbsp;</span>Git</a></span></li></ul></li><li><span><a href=\"#INSTALL\" data-toc-modified-id=\"INSTALL-2\"><span class=\"toc-item-num\">2&nbsp;&nbsp;</span>INSTALL</a></span><ul class=\"toc-item\"><li><span><a href=\"#System-directory\" data-toc-modified-id=\"System-directory-2.1\"><span class=\"toc-item-num\">2.1&nbsp;&nbsp;</span>System directory</a></span></li></ul></li></ul></div>"
   ]
  },
  {
   "cell_type": "markdown",
   "metadata": {},
   "source": [
    "# CMD"
   ]
  },
  {
   "cell_type": "markdown",
   "metadata": {},
   "source": [
    "## System "
   ]
  },
  {
   "cell_type": "markdown",
   "metadata": {},
   "source": [
    "查看ubuntu版本 cat /etc/issue\n",
    "\n",
    "查看当前登入用户 w\n",
    "\n",
    "查看分区挂载情况 df -h\n",
    "\n",
    "查看当前cpu top\n",
    "\n",
    "动态监视内存使用情况 watch -d free  使用ctrl+c退出\n",
    "\n",
    "查看内存状况 free -h\n",
    "\n",
    "删除当前目录下的文件 rm -rf 文件名\n",
    "\n",
    "添加环境变量 gedit /etc/profile  export PATH=绝对路径"
   ]
  },
  {
   "cell_type": "markdown",
   "metadata": {},
   "source": [
    "## File "
   ]
  },
  {
   "cell_type": "markdown",
   "metadata": {},
   "source": [
    "更新profile文件使文件配置生效 source /etc/profile\n",
    "\n",
    "复制文件 cp 原文件路径 复制至路径\n",
    "\n",
    "创建文件夹 mkdir 绝对路径\n",
    "\n",
    "进入文件夹 cd 绝对路径\n",
    "\n",
    "查看当前目录绝对路径 pwd\n",
    "\n",
    "回到home目录 cd ~/cd\n",
    "\n",
    "回到上一级目录 cd -\n"
   ]
  },
  {
   "cell_type": "markdown",
   "metadata": {},
   "source": [
    "## apt-get "
   ]
  },
  {
   "cell_type": "markdown",
   "metadata": {},
   "source": [
    "linux发行版(ubuntu)的包管理器\n",
    "\n",
    "更新包列表 sudo apt-get update \n",
    "update is used to download package information from all configured sources： 从源服务器(软件和更新可设置)（软件源服务器地址：sudo gedit /etc/apt/sources.list）那里下载最新的软件包列表，软件包列表包括包的版本，系统要求，翻译，依赖项等包信息。update命令后从软件源列表更新的index files存放在/var/lib/apt/lists\n",
    "\n",
    "安装应用程序跟新 sudo apt-get upgrade\n",
    "upgrade is used to install available upgrades of all packages currently installed on the system from the sources configured via sources.list：对已经安装的软件包进行更新。确定要更新的软件包需要对本地安装的版本和最新的包列表的版本进行比较，所以要在update之后运行这一条。下载的包存放在/var/cache/apt/archives\n",
    "\n",
    "安装所有可用更新 sudo apt-get dist-upgrade\n",
    "最新的包列表中包的依赖发生改变时upgrade会拒绝升级，此时使用该指令\n",
    "\n",
    "安装软件 sudo apt-get install pkg-name \n",
    "\n",
    "查询软件 apt-cache search pkg-name / aptitude search pkg-name\n",
    "根据最新的包列表查询可安装的包\n",
    "\n",
    "查找当前ubuntu下安装的软件 dpkg -l\n",
    "\n",
    "查找当前系统是否安装某软件 dpkg -l *google*  不知道软件全称时加通配符**方便查找，可以找到所有与google有关的软件\n",
    "\n",
    "删除已卸载的软件的deb安装包 apt-get autoclean\n",
    "\n",
    "删除所有deb安装包\n",
    "\n",
    "卸载软件 sudo apt-get --purge remove pkg-name （purge表示彻底删除）\n",
    "\n",
    "查询软件版本 apt-show-versions -a pka-name / aptitude versions pkg-name\n",
    "\n",
    "卸载软件 sudo apt-get remove pkg-name"
   ]
  },
  {
   "cell_type": "markdown",
   "metadata": {},
   "source": [
    "## vim "
   ]
  },
  {
   "cell_type": "markdown",
   "metadata": {},
   "source": [
    "vim filename 在当前目录新建文件\n",
    "\n",
    "i/I 在当前光标所在处插入输入的文字，已存在的字符向后退\n",
    "\n",
    "a/A 由当前光标所在处的下一个字符开始输入，已存在的字符向后退\n",
    "\n",
    "o/O 插入新的一行，从光标所在处的下一行行首开始输入\n",
    "\n",
    "r 替换光标所指的那一个字符，R会一直替换光标所指的字符直到Esc\n",
    "\n",
    "Esc 退出编辑模式，回到一般模式\n",
    "\n",
    ":w 将编辑的数据写入硬盘文件中\n",
    "\n",
    ":w！若文件为只读，强制写入该文件\n",
    "\n",
    ":q 退出vi\n",
    "\n",
    ":q! 若曾修改过文件，又不想保存，强制退出不保存文件\n",
    "\n",
    ":wq 退出后保存\n",
    "\n",
    ":wq！强制保存后退出\n",
    "\n",
    ":w [filename] 文件另存为\n",
    "\n",
    ":r [filename] 将filename文件中的内容加到光标所在的行的后面\n",
    "\n",
    ":set nu 每行前显示行号\n",
    "\n",
    ":set nonu 取消行号\n",
    "\n",
    "x 向后删除一个字符 X向前删除一个字符\n",
    "\n",
    "nx 向后删除n个字符\n",
    "\n",
    "dd 删除光标所在的整行\n",
    "\n",
    "ndd 删除包括光标所在的向下n行\n",
    "\n",
    "d1G 删除光标所在的行到第一行的所有数据\n",
    "\n",
    "dG 删除光标所在的行到最后一行\n",
    "\n",
    "yy 复制光标所在的行\n",
    "\n",
    "nyy y1G yG同理\n",
    "\n",
    "u 恢复前一个动作\n",
    "\n",
    "n<Enter> 光标向下移动n行\n",
    "\n",
    "0 移动到行的首字符\n",
    "\n",
    "G 移动到文件最后一行\n",
    "\n",
    "ctrl+f 屏幕向前翻动一页\n",
    "\n",
    "ctrl+b 屏幕向后翻动一页"
   ]
  },
  {
   "cell_type": "markdown",
   "metadata": {},
   "source": [
    "## Mirro Source"
   ]
  },
  {
   "cell_type": "markdown",
   "metadata": {},
   "source": [
    "cd $HOME  \n",
    "mkdir .pip  \n",
    "cd .pip\n",
    "sudo vim pip.conf  \n",
    "\n",
    "在里面添加  \n",
    "[global]  \n",
    "index-url=https://pypi.tuna.tsinghua.edu.cn/simple\n",
    "[install]  \n",
    "trusted-host=pypi.tuna.tsinghua.edu.cn \n",
    "disable-pip-version-check = true  \n",
    "timeout = 6000\n",
    "\n",
    "conda config --add channels 'https://mirrors.tuna.tsinghua.edu.cn/anaconda/pkgs/free/'\n",
    "conda config --set show_channel_urls yes\n",
    "好了，这次可以开心的下载东西了\n",
    "如何删除添加的源呢？\n",
    "conda config --remove channels 'https://mirrors.tuna.tsinghua.edu.cn/anaconda/pkgs/free/' \n",
    "看看当前的 cofig 是什么样的\n",
    "conda config --show"
   ]
  },
  {
   "cell_type": "markdown",
   "metadata": {},
   "source": [
    "## Git "
   ]
  },
  {
   "cell_type": "markdown",
   "metadata": {},
   "source": [
    "官方文档：https://gitee.com/progit/index.html\n",
    "参考文档：https://github.com/xieliang655/data-blog https://blog.csdn.net/wangjia55/article/details/8802490\n",
    "\n",
    "git --help 查看命令功能\n",
    "\n",
    "创建本地仓库的两种方式：1）初始化 2）克隆  \n",
    "git init 在本地初始化一个仓库,会在当前目录下创建一个.git的文件夹, 初始化后添加完善个人信息git config --global user.email \"你的邮箱\"  git config --global user.name \"你的名字\"  \n",
    "\n",
    "git clone [remote_repo_url] 克隆一个远程仓库到本地  \n",
    "git clone https://github.com/xieliang655/notebook.git 在当前目录创建一个名为notebook的目录，其中包含一         个.git的目录，用于保存下载下来的所有版本记录，然后从中取出最新版本的文件拷贝。  \n",
    "git clone [remote_repo_url] [new_name] 克隆一个远程库到本地并重新命名  \n",
    "克隆操作会自动使用默认的master(本地分支)和origin(远程)\n",
    "\n",
    "echo [\"my first repository\"]>>[filename] 在当前目录下创建文档filename\n",
    "\n",
    "git status 查看当前文件状态\n",
    "\n",
    "git add [filename] 将文件纳入版本控制,将filename的文件信息添加到git仓库的索引库中\n",
    "\n",
    "git add .添加所有文件到索引库\n",
    "\n",
    "git commit [filename] 提交文件,将file添加到本地库\n",
    "\n",
    "git commit -m \"提交说明\"\n",
    "\n",
    "git status 检查当前目录下的文件的状态 跟踪|未跟踪，变更|未变更，提交|未提交（查看修改过的文件是否都add了，否则commit不会被提交）\n",
    "\n",
    ".gitignore文件中配置了我们不需要跟踪的文件类型\n",
    "\n",
    "git rm [filename] 移除已添加的文件filename，提交的时候该文件不会再纳入版本管理\n",
    "\n",
    "git remote 查看当前配置有哪些远程仓库 -v显示对应的远程地址\n",
    "\n",
    "git remote add [shortname] [url] 添加一个新的远程仓库，并简单命名以便将来引用\n",
    "\n",
    "git fetch [shortname] 抓取远程库中有的文件而本地仓库没有的文件至本地仓库\n",
    "\n",
    "git remote 列出配置中已存在的远程分支\n",
    "\n",
    "git remote [-v] 列出远程库及其地址\n",
    "\n",
    "Git 支持许多数据传输协议。之前的例子使用的是 git:// 协议，不过你也可以用 http(s):// 或者 user@server:/path.git 表示的 SSH 传输协议。\n",
    "\n",
    "git push [remote-name] [branch-name] 将本地仓库数据推送至远程仓库\n",
    "\n",
    "git push origin master 把本地的master分支推送到origi服务器上\n",
    "\n",
    "git remote show [remote-name] 查看某个远程仓库的详细信息"
   ]
  },
  {
   "cell_type": "markdown",
   "metadata": {},
   "source": [
    "# INSTALL"
   ]
  },
  {
   "cell_type": "markdown",
   "metadata": {},
   "source": [
    "## System directory"
   ]
  },
  {
   "cell_type": "markdown",
   "metadata": {},
   "source": [
    "/\n",
    "根目录：重装系统会将该分区格式化\n",
    "\n",
    "home\n",
    "如果该目录独立分区（相对根目录/），重装系统时只需格式化根目录，就像windows一样只需格式化c盘，home目录下用户数据将被保留，就像windows下的D盘。\n",
    "\n",
    "usr\n",
    "share->applications 软件快捷方式\n",
    "\n",
    "var\n",
    "cache->apt->archives 存放这所有deb格式的软件安装包，重装系统时将该目录独立分区\n",
    "\n",
    "安装包尽量不要选择rpm格式（不方便卸载），它不是ubuntu支持的安装包格式\n",
    "\n",
    "软件一般安装在/usr/local 或/home下\n",
    "\n",
    "创建软件快捷方式 所有快捷方式的启动图标都在/usr/share/applications/内 \n",
    "sudo gedit /usr/share/applications/xxx.desktop\n",
    "[Desktop Entry]\n",
    "Name=Android Studio\n",
    "Comment=android studio\n",
    "Exec=/home/xie/android_develop_tools/android-studio/bin/studio.sh \n",
    "Icon=/home/xie/android_develop_tools/android-studio/bin/studio.png\n",
    "Terminal=false\n",
    "Type=Application\n",
    "Categories=Application\n",
    "\n",
    "从指定路径打开命令窗口。进入指定文件夹，右键->在终端打开\n",
    "\n",
    "改变镜像源 系统设置->软件和跟新->下载自其他站点->选择最佳服务器"
   ]
  }
 ],
 "metadata": {
  "kernelspec": {
   "display_name": "Python 3",
   "language": "python",
   "name": "python3"
  },
  "language_info": {
   "codemirror_mode": {
    "name": "ipython",
    "version": 3
   },
   "file_extension": ".py",
   "mimetype": "text/x-python",
   "name": "python",
   "nbconvert_exporter": "python",
   "pygments_lexer": "ipython3",
   "version": "3.6.3"
  },
  "toc": {
   "base_numbering": 1,
   "nav_menu": {},
   "number_sections": true,
   "sideBar": true,
   "skip_h1_title": false,
   "title_cell": "Table of Contents",
   "title_sidebar": "Contents",
   "toc_cell": true,
   "toc_position": {
    "height": "calc(100% - 180px)",
    "left": "10px",
    "top": "150px",
    "width": "273px"
   },
   "toc_section_display": true,
   "toc_window_display": true
  }
 },
 "nbformat": 4,
 "nbformat_minor": 2
}
